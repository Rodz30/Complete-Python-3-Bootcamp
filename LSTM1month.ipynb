{
  "nbformat": 4,
  "nbformat_minor": 0,
  "metadata": {
    "colab": {
      "name": "LSTM1month.ipynb",
      "provenance": [],
      "collapsed_sections": [],
      "authorship_tag": "ABX9TyOc7LyPBskHavUjEfIBPLhP",
      "include_colab_link": true
    },
    "kernelspec": {
      "name": "python3",
      "display_name": "Python 3"
    }
  },
  "cells": [
    {
      "cell_type": "markdown",
      "metadata": {
        "id": "view-in-github",
        "colab_type": "text"
      },
      "source": [
        "<a href=\"https://colab.research.google.com/github/Rodz30/Complete-Python-3-Bootcamp/blob/master/LSTM1month.ipynb\" target=\"_parent\"><img src=\"https://colab.research.google.com/assets/colab-badge.svg\" alt=\"Open In Colab\"/></a>"
      ]
    },
    {
      "cell_type": "code",
      "metadata": {
        "id": "pa7mH5fuYjlq",
        "colab_type": "code",
        "colab": {
          "base_uri": "https://localhost:8080/",
          "height": 34
        },
        "outputId": "e008e139-9a1e-4a5f-a7e2-b5c7736c6fde"
      },
      "source": [
        "from pandas import DataFrame\n",
        "from pandas import Series\n",
        "from pandas import concat\n",
        "from pandas import read_csv\n",
        "from pandas import datetime\n",
        "from sklearn.metrics import mean_squared_error\n",
        "from sklearn.preprocessing import MinMaxScaler\n",
        "from keras.models import Sequential\n",
        "from keras.layers import Dense\n",
        "from keras.layers import LSTM\n",
        "from math import sqrt\n",
        "from matplotlib import pyplot\n",
        "import numpy as np\n",
        "import pandas as pd"
      ],
      "execution_count": 1,
      "outputs": [
        {
          "output_type": "stream",
          "text": [
            "Using TensorFlow backend.\n"
          ],
          "name": "stderr"
        }
      ]
    },
    {
      "cell_type": "code",
      "metadata": {
        "id": "EcagONzyZcTj",
        "colab_type": "code",
        "colab": {}
      },
      "source": [
        ""
      ],
      "execution_count": 0,
      "outputs": []
    },
    {
      "cell_type": "code",
      "metadata": {
        "id": "R0pqjCqKNH3h",
        "colab_type": "code",
        "outputId": "83450171-acac-4355-f639-9e026eabb3f5",
        "colab": {
          "base_uri": "https://localhost:8080/",
          "height": 122
        }
      },
      "source": [
        "from google.colab import drive\n",
        "drive.mount('/content/drive')"
      ],
      "execution_count": 2,
      "outputs": [
        {
          "output_type": "stream",
          "text": [
            "Go to this URL in a browser: https://accounts.google.com/o/oauth2/auth?client_id=947318989803-6bn6qk8qdgf4n4g3pfee6491hc0brc4i.apps.googleusercontent.com&redirect_uri=urn%3aietf%3awg%3aoauth%3a2.0%3aoob&response_type=code&scope=email%20https%3a%2f%2fwww.googleapis.com%2fauth%2fdocs.test%20https%3a%2f%2fwww.googleapis.com%2fauth%2fdrive%20https%3a%2f%2fwww.googleapis.com%2fauth%2fdrive.photos.readonly%20https%3a%2f%2fwww.googleapis.com%2fauth%2fpeopleapi.readonly\n",
            "\n",
            "Enter your authorization code:\n",
            "··········\n",
            "Mounted at /content/drive\n"
          ],
          "name": "stdout"
        }
      ]
    },
    {
      "cell_type": "code",
      "metadata": {
        "id": "Q_64yVUucYcQ",
        "colab_type": "code",
        "colab": {}
      },
      "source": [
        "# Hardcode all variables\n",
        "batch_size_exp = 1\n",
        "epoch_exp = 7\n",
        "neurons_exp = 10\n",
        "predict_values_exp = 672\n",
        "lag_exp=24"
      ],
      "execution_count": 0,
      "outputs": []
    },
    {
      "cell_type": "code",
      "metadata": {
        "id": "-7lrcEYRcdFA",
        "colab_type": "code",
        "colab": {}
      },
      "source": [
        "# frame a sequence as a supervised learning problem\n",
        "def timeseries_to_supervised(data, lag=1):\n",
        "    df = DataFrame(data)\n",
        "    columns = [df.shift(i) for i in range(1, lag+1)]\n",
        "    columns.append(df)\n",
        "    df = concat(columns, axis=1)\n",
        "    df.fillna(0, inplace=True)\n",
        "    return df"
      ],
      "execution_count": 0,
      "outputs": []
    },
    {
      "cell_type": "code",
      "metadata": {
        "id": "AwvYrcRPcjFe",
        "colab_type": "code",
        "colab": {}
      },
      "source": [
        "# create a differenced series\n",
        "def difference(dataset, interval=1):\n",
        "    diff = list()\n",
        "    for i in range(interval, len(dataset)):\n",
        "        value = dataset[i] - dataset[i - interval]\n",
        "        diff.append(value)\n",
        "    return Series(diff)"
      ],
      "execution_count": 0,
      "outputs": []
    },
    {
      "cell_type": "code",
      "metadata": {
        "id": "DBIRw5DQcnaP",
        "colab_type": "code",
        "colab": {}
      },
      "source": [
        "# invert differenced value\n",
        "def inverse_difference(history, yhat, interval=1):\n",
        "    return yhat + history[-interval]"
      ],
      "execution_count": 0,
      "outputs": []
    },
    {
      "cell_type": "code",
      "metadata": {
        "id": "EvfVk1yWcrAg",
        "colab_type": "code",
        "colab": {}
      },
      "source": [
        "# scale train and test data to [-1, 1]\n",
        "def scale(train, test):\n",
        "    # fit scaler\n",
        "    scaler = MinMaxScaler(feature_range=(-1, 1))\n",
        "    scaler = scaler.fit(train)\n",
        "    # transform train\n",
        "    train = train.reshape(train.shape[0], train.shape[1])\n",
        "    train_scaled = scaler.transform(train)\n",
        "    # transform test\n",
        "    test = test.reshape(test.shape[0], test.shape[1])\n",
        "    test_scaled = scaler.transform(test)\n",
        "    return scaler, train_scaled, test_scaled"
      ],
      "execution_count": 0,
      "outputs": []
    },
    {
      "cell_type": "code",
      "metadata": {
        "id": "nOkRI6gAcwNY",
        "colab_type": "code",
        "colab": {}
      },
      "source": [
        "# inverse scaling for a forecasted value\n",
        "def invert_scale(scaler, X, value):\n",
        "    new_row = [x for x in X] + [value]\n",
        "    array = np.array(new_row)\n",
        "    array = array.reshape(1, len(array))\n",
        "    inverted = scaler.inverse_transform(array)\n",
        "    return inverted[0, -1]"
      ],
      "execution_count": 0,
      "outputs": []
    },
    {
      "cell_type": "code",
      "metadata": {
        "id": "UjuGyBMGczoY",
        "colab_type": "code",
        "colab": {}
      },
      "source": [
        "# fit an LSTM network to training data\n",
        "def fit_lstm(train, batch_size, nb_epoch, neurons):\n",
        "    X, y = train[:, 0:-1], train[:, -1]\n",
        "    X = X.reshape(X.shape[0], 1, X.shape[1])\n",
        "    model = Sequential()\n",
        "    model.add(LSTM(neurons, batch_input_shape=(batch_size, X.shape[1], X.shape[2]), stateful=True))\n",
        "    model.add(Dense(1))\n",
        "    model.compile(loss='mean_squared_error', optimizer='adam')\n",
        "    for i in range(nb_epoch):\n",
        "        model.fit(X, y, epochs=1, batch_size=batch_size, verbose=1, shuffle=False)\n",
        "        model.reset_states()\n",
        "    return model"
      ],
      "execution_count": 0,
      "outputs": []
    },
    {
      "cell_type": "code",
      "metadata": {
        "id": "fxAOQmHec_JZ",
        "colab_type": "code",
        "colab": {}
      },
      "source": [
        "# make a one-step forecast\n",
        "def forecast_lstm(model, batch_size, X):\n",
        "    X = X.reshape(1, 1, len(X))\n",
        "    #print(X)\n",
        "    yhat = model.predict(X, batch_size=1)\n",
        "    return yhat[0,0]"
      ],
      "execution_count": 0,
      "outputs": []
    },
    {
      "cell_type": "code",
      "metadata": {
        "id": "RsDj-CXhdD0s",
        "colab_type": "code",
        "colab": {
          "base_uri": "https://localhost:8080/",
          "height": 235
        },
        "outputId": "1831e182-67a8-4f7b-c3cd-d48c4ed5ceba"
      },
      "source": [
        "import pandas as pd\n",
        "series = pd.read_excel('/content/drive/My Drive/AL_WIND_07_12 (2).xlsx',index_col=\"DateTime\")\n",
        "series.head()"
      ],
      "execution_count": 26,
      "outputs": [
        {
          "output_type": "execute_result",
          "data": {
            "text/html": [
              "<div>\n",
              "<style scoped>\n",
              "    .dataframe tbody tr th:only-of-type {\n",
              "        vertical-align: middle;\n",
              "    }\n",
              "\n",
              "    .dataframe tbody tr th {\n",
              "        vertical-align: top;\n",
              "    }\n",
              "\n",
              "    .dataframe thead th {\n",
              "        text-align: right;\n",
              "    }\n",
              "</style>\n",
              "<table border=\"1\" class=\"dataframe\">\n",
              "  <thead>\n",
              "    <tr style=\"text-align: right;\">\n",
              "      <th></th>\n",
              "      <th>Air temperature</th>\n",
              "      <th>Pressure</th>\n",
              "      <th>Wind speed</th>\n",
              "      <th>Wind direction</th>\n",
              "      <th>Power generated by system</th>\n",
              "    </tr>\n",
              "    <tr>\n",
              "      <th>DateTime</th>\n",
              "      <th></th>\n",
              "      <th></th>\n",
              "      <th></th>\n",
              "      <th></th>\n",
              "      <th></th>\n",
              "    </tr>\n",
              "  </thead>\n",
              "  <tbody>\n",
              "    <tr>\n",
              "      <th>2007-01-01 00:00:00</th>\n",
              "      <td>10.926</td>\n",
              "      <td>0.979103</td>\n",
              "      <td>9.014</td>\n",
              "      <td>229</td>\n",
              "      <td>33688.1</td>\n",
              "    </tr>\n",
              "    <tr>\n",
              "      <th>2007-01-01 01:00:00</th>\n",
              "      <td>9.919</td>\n",
              "      <td>0.979566</td>\n",
              "      <td>9.428</td>\n",
              "      <td>232</td>\n",
              "      <td>37261.9</td>\n",
              "    </tr>\n",
              "    <tr>\n",
              "      <th>2007-01-01 02:00:00</th>\n",
              "      <td>8.567</td>\n",
              "      <td>0.979937</td>\n",
              "      <td>8.700</td>\n",
              "      <td>236</td>\n",
              "      <td>30502.9</td>\n",
              "    </tr>\n",
              "    <tr>\n",
              "      <th>2007-01-01 03:00:00</th>\n",
              "      <td>7.877</td>\n",
              "      <td>0.980053</td>\n",
              "      <td>8.481</td>\n",
              "      <td>247</td>\n",
              "      <td>28419.2</td>\n",
              "    </tr>\n",
              "    <tr>\n",
              "      <th>2007-01-01 04:00:00</th>\n",
              "      <td>7.259</td>\n",
              "      <td>0.979867</td>\n",
              "      <td>8.383</td>\n",
              "      <td>256</td>\n",
              "      <td>27370.3</td>\n",
              "    </tr>\n",
              "  </tbody>\n",
              "</table>\n",
              "</div>"
            ],
            "text/plain": [
              "                     Air temperature  ...  Power generated by system\n",
              "DateTime                              ...                           \n",
              "2007-01-01 00:00:00           10.926  ...                    33688.1\n",
              "2007-01-01 01:00:00            9.919  ...                    37261.9\n",
              "2007-01-01 02:00:00            8.567  ...                    30502.9\n",
              "2007-01-01 03:00:00            7.877  ...                    28419.2\n",
              "2007-01-01 04:00:00            7.259  ...                    27370.3\n",
              "\n",
              "[5 rows x 5 columns]"
            ]
          },
          "metadata": {
            "tags": []
          },
          "execution_count": 26
        }
      ]
    },
    {
      "cell_type": "code",
      "metadata": {
        "id": "y3fJ0MFmdPPE",
        "colab_type": "code",
        "colab": {
          "base_uri": "https://localhost:8080/",
          "height": 235
        },
        "outputId": "6f5a3af9-0665-40bf-b1d6-44a07dbcebf6"
      },
      "source": [
        "'''Drop all the features as we will not be having any in production'''\n",
        "del series['Air temperature']\n",
        "del series['Pressure']\n",
        "del series['Wind direction']\n",
        "del series['Power generated by system']\n",
        "series.head()"
      ],
      "execution_count": 27,
      "outputs": [
        {
          "output_type": "execute_result",
          "data": {
            "text/html": [
              "<div>\n",
              "<style scoped>\n",
              "    .dataframe tbody tr th:only-of-type {\n",
              "        vertical-align: middle;\n",
              "    }\n",
              "\n",
              "    .dataframe tbody tr th {\n",
              "        vertical-align: top;\n",
              "    }\n",
              "\n",
              "    .dataframe thead th {\n",
              "        text-align: right;\n",
              "    }\n",
              "</style>\n",
              "<table border=\"1\" class=\"dataframe\">\n",
              "  <thead>\n",
              "    <tr style=\"text-align: right;\">\n",
              "      <th></th>\n",
              "      <th>Wind speed</th>\n",
              "    </tr>\n",
              "    <tr>\n",
              "      <th>DateTime</th>\n",
              "      <th></th>\n",
              "    </tr>\n",
              "  </thead>\n",
              "  <tbody>\n",
              "    <tr>\n",
              "      <th>2007-01-01 00:00:00</th>\n",
              "      <td>9.014</td>\n",
              "    </tr>\n",
              "    <tr>\n",
              "      <th>2007-01-01 01:00:00</th>\n",
              "      <td>9.428</td>\n",
              "    </tr>\n",
              "    <tr>\n",
              "      <th>2007-01-01 02:00:00</th>\n",
              "      <td>8.700</td>\n",
              "    </tr>\n",
              "    <tr>\n",
              "      <th>2007-01-01 03:00:00</th>\n",
              "      <td>8.481</td>\n",
              "    </tr>\n",
              "    <tr>\n",
              "      <th>2007-01-01 04:00:00</th>\n",
              "      <td>8.383</td>\n",
              "    </tr>\n",
              "  </tbody>\n",
              "</table>\n",
              "</div>"
            ],
            "text/plain": [
              "                     Wind speed\n",
              "DateTime                       \n",
              "2007-01-01 00:00:00       9.014\n",
              "2007-01-01 01:00:00       9.428\n",
              "2007-01-01 02:00:00       8.700\n",
              "2007-01-01 03:00:00       8.481\n",
              "2007-01-01 04:00:00       8.383"
            ]
          },
          "metadata": {
            "tags": []
          },
          "execution_count": 27
        }
      ]
    },
    {
      "cell_type": "code",
      "metadata": {
        "id": "l-Cbpz5UdkLi",
        "colab_type": "code",
        "colab": {
          "base_uri": "https://localhost:8080/",
          "height": 235
        },
        "outputId": "4ea7092e-0d35-408d-8b7d-147b1132d39d"
      },
      "source": [
        "for i in range(0,10):\n",
        "  series = series[:-1]\n",
        "series.tail()"
      ],
      "execution_count": 28,
      "outputs": [
        {
          "output_type": "execute_result",
          "data": {
            "text/html": [
              "<div>\n",
              "<style scoped>\n",
              "    .dataframe tbody tr th:only-of-type {\n",
              "        vertical-align: middle;\n",
              "    }\n",
              "\n",
              "    .dataframe tbody tr th {\n",
              "        vertical-align: top;\n",
              "    }\n",
              "\n",
              "    .dataframe thead th {\n",
              "        text-align: right;\n",
              "    }\n",
              "</style>\n",
              "<table border=\"1\" class=\"dataframe\">\n",
              "  <thead>\n",
              "    <tr style=\"text-align: right;\">\n",
              "      <th></th>\n",
              "      <th>Wind speed</th>\n",
              "    </tr>\n",
              "    <tr>\n",
              "      <th>DateTime</th>\n",
              "      <th></th>\n",
              "    </tr>\n",
              "  </thead>\n",
              "  <tbody>\n",
              "    <tr>\n",
              "      <th>2012-12-31 09:00:00</th>\n",
              "      <td>5.351</td>\n",
              "    </tr>\n",
              "    <tr>\n",
              "      <th>2012-12-31 10:00:00</th>\n",
              "      <td>5.375</td>\n",
              "    </tr>\n",
              "    <tr>\n",
              "      <th>2012-12-31 11:00:00</th>\n",
              "      <td>5.498</td>\n",
              "    </tr>\n",
              "    <tr>\n",
              "      <th>2012-12-31 12:00:00</th>\n",
              "      <td>4.973</td>\n",
              "    </tr>\n",
              "    <tr>\n",
              "      <th>2012-12-31 13:00:00</th>\n",
              "      <td>4.072</td>\n",
              "    </tr>\n",
              "  </tbody>\n",
              "</table>\n",
              "</div>"
            ],
            "text/plain": [
              "                     Wind speed\n",
              "DateTime                       \n",
              "2012-12-31 09:00:00       5.351\n",
              "2012-12-31 10:00:00       5.375\n",
              "2012-12-31 11:00:00       5.498\n",
              "2012-12-31 12:00:00       4.973\n",
              "2012-12-31 13:00:00       4.072"
            ]
          },
          "metadata": {
            "tags": []
          },
          "execution_count": 28
        }
      ]
    },
    {
      "cell_type": "code",
      "metadata": {
        "id": "F6vUiW1Ndmkf",
        "colab_type": "code",
        "colab": {}
      },
      "source": [
        "# transform data to be stationary\n",
        "raw_values = series.values\n",
        "diff_values = difference(raw_values, 1)"
      ],
      "execution_count": 0,
      "outputs": []
    },
    {
      "cell_type": "code",
      "metadata": {
        "id": "kU1_lopydrQd",
        "colab_type": "code",
        "colab": {}
      },
      "source": [
        "# transform data to be supervised learning\n",
        "supervised = timeseries_to_supervised(diff_values, lag_exp)\n",
        "supervised_values = supervised.values"
      ],
      "execution_count": 0,
      "outputs": []
    },
    {
      "cell_type": "code",
      "metadata": {
        "id": "yUAbqeQkdvaJ",
        "colab_type": "code",
        "colab": {
          "base_uri": "https://localhost:8080/",
          "height": 51
        },
        "outputId": "a3b60518-4124-4087-a4f5-cf79e04f23bc"
      },
      "source": [
        "# split data into train and test-sets\n",
        "train, test = supervised_values[0:-predict_values_exp], supervised_values[-predict_values_exp:]\n",
        "print(len(train))\n",
        "print(len(test))\n"
      ],
      "execution_count": 31,
      "outputs": [
        {
          "output_type": "stream",
          "text": [
            "51877\n",
            "672\n"
          ],
          "name": "stdout"
        }
      ]
    },
    {
      "cell_type": "code",
      "metadata": {
        "id": "GforK1d4dzZw",
        "colab_type": "code",
        "colab": {}
      },
      "source": [
        "# transform the scale of the data\n",
        "scaler, train_scaled, test_scaled = scale(train, test)"
      ],
      "execution_count": 0,
      "outputs": []
    },
    {
      "cell_type": "code",
      "metadata": {
        "id": "HId7DJ0XdzjG",
        "colab_type": "code",
        "colab": {
          "base_uri": "https://localhost:8080/",
          "height": 255
        },
        "outputId": "0eda4923-6ac5-47c0-e049-1536935a62fb"
      },
      "source": [
        "# fit the model\n",
        "lstm_model = fit_lstm(train_scaled, batch_size_exp, epoch_exp, neurons_exp)"
      ],
      "execution_count": 33,
      "outputs": [
        {
          "output_type": "stream",
          "text": [
            "Epoch 1/1\n",
            "51877/51877 [==============================] - 68s 1ms/step - loss: 0.0103\n",
            "Epoch 1/1\n",
            "51877/51877 [==============================] - 68s 1ms/step - loss: 0.0100\n",
            "Epoch 1/1\n",
            "51877/51877 [==============================] - 68s 1ms/step - loss: 0.0098\n",
            "Epoch 1/1\n",
            "51877/51877 [==============================] - 68s 1ms/step - loss: 0.0097\n",
            "Epoch 1/1\n",
            "51877/51877 [==============================] - 67s 1ms/step - loss: 0.0096\n",
            "Epoch 1/1\n",
            "51877/51877 [==============================] - 68s 1ms/step - loss: 0.0096\n",
            "Epoch 1/1\n",
            "51877/51877 [==============================] - 67s 1ms/step - loss: 0.0095\n"
          ],
          "name": "stdout"
        }
      ]
    },
    {
      "cell_type": "code",
      "metadata": {
        "id": "PeJwX6t0dzts",
        "colab_type": "code",
        "colab": {
          "base_uri": "https://localhost:8080/",
          "height": 1000
        },
        "outputId": "aa235f52-766c-47d1-9a99-448917d9b3c5"
      },
      "source": [
        "# walk-forward validation on the test data\n",
        "predictions = list()\n",
        "expectations = list()\n",
        "predictions_plot = list()\n",
        "expectations_plot = list()\n",
        "test_pred = list()\n",
        "for i in range(len(test_scaled)):\n",
        "    # make one-step forecast\n",
        "    X, y = test_scaled[i, 0:-1], test_scaled[i, -1]\n",
        "    yhat = forecast_lstm(lstm_model, 1, X)#batch_size_exp to 1\n",
        "    '''# Start Debug prints\n",
        "    print(\"X: %\", X)\n",
        "    print(\"yhat: %\", yhat)\n",
        "    # End Debug prints'''\n",
        "    # Replacing value in test scaled with the predicted value.\n",
        "    test_pred = [yhat] + test_pred \n",
        "    if len(test_pred) > lag_exp+1:\n",
        "        test_pred = test_pred[:-1]\n",
        "    if i+1<len(test_scaled):\n",
        "        if i+1 > lag_exp+1:\n",
        "            test_scaled[i+1] = test_pred\n",
        "        else:\n",
        "            test_scaled[i+1] = np.concatenate((test_pred, test_scaled[i+1, i+1:]),axis=0)\n",
        "\n",
        "    # invert scaling\n",
        "    yhat = invert_scale(scaler, X, yhat)\n",
        "    # invert differencing\n",
        "    yhat = inverse_difference(raw_values, yhat, len(test_scaled)+1-i)\n",
        "    # store forecast\n",
        "    expected = raw_values[len(train) + i + 1]\n",
        "    predictions_plot.append(yhat)\n",
        "    expectations_plot.append(expected)\n",
        "    if expected != 0:\n",
        "        predictions.append(yhat)\n",
        "        expectations.append(expected)\n",
        "    print('Hour=%d, Predicted=%f, Expected=%f' % (i+1, yhat, expected))"
      ],
      "execution_count": 42,
      "outputs": [
        {
          "output_type": "stream",
          "text": [
            "Hour=1, Predicted=8.613844, Expected=8.346000\n",
            "Hour=2, Predicted=7.551280, Expected=5.539000\n",
            "Hour=3, Predicted=4.619949, Expected=4.623000\n",
            "Hour=4, Predicted=4.095154, Expected=4.982000\n",
            "Hour=5, Predicted=5.060335, Expected=6.133000\n",
            "Hour=6, Predicted=6.341595, Expected=6.716000\n",
            "Hour=7, Predicted=6.966971, Expected=6.015000\n",
            "Hour=8, Predicted=6.250718, Expected=6.645000\n",
            "Hour=9, Predicted=6.945242, Expected=7.758000\n",
            "Hour=10, Predicted=8.264149, Expected=8.926000\n",
            "Hour=11, Predicted=9.535368, Expected=8.587000\n",
            "Hour=12, Predicted=9.308004, Expected=7.976000\n",
            "Hour=13, Predicted=8.810229, Expected=7.486000\n",
            "Hour=14, Predicted=8.248184, Expected=7.116000\n",
            "Hour=15, Predicted=7.644317, Expected=6.595000\n",
            "Hour=16, Predicted=6.907385, Expected=5.671000\n",
            "Hour=17, Predicted=5.852546, Expected=5.614000\n",
            "Hour=18, Predicted=5.601145, Expected=4.916000\n",
            "Hour=19, Predicted=4.796669, Expected=4.532000\n",
            "Hour=20, Predicted=4.305335, Expected=4.588000\n",
            "Hour=21, Predicted=4.247392, Expected=4.345000\n",
            "Hour=22, Predicted=3.888473, Expected=4.496000\n",
            "Hour=23, Predicted=4.110821, Expected=4.886000\n",
            "Hour=24, Predicted=4.757471, Expected=5.615000\n",
            "Hour=25, Predicted=5.551453, Expected=4.916000\n",
            "Hour=26, Predicted=4.653763, Expected=5.149000\n",
            "Hour=27, Predicted=4.692256, Expected=4.341000\n",
            "Hour=28, Predicted=3.936943, Expected=3.840000\n",
            "Hour=29, Predicted=3.647978, Expected=3.319000\n",
            "Hour=30, Predicted=3.266845, Expected=3.436000\n",
            "Hour=31, Predicted=3.451669, Expected=4.202000\n",
            "Hour=32, Predicted=4.261449, Expected=4.572000\n",
            "Hour=33, Predicted=4.685584, Expected=4.773000\n",
            "Hour=34, Predicted=4.963845, Expected=6.228000\n",
            "Hour=35, Predicted=6.505885, Expected=8.474000\n",
            "Hour=36, Predicted=8.838043, Expected=9.231000\n",
            "Hour=37, Predicted=9.665594, Expected=8.995000\n",
            "Hour=38, Predicted=9.453062, Expected=8.584000\n",
            "Hour=39, Predicted=8.998898, Expected=7.990000\n",
            "Hour=40, Predicted=8.321682, Expected=6.742000\n",
            "Hour=41, Predicted=6.993668, Expected=6.933000\n",
            "Hour=42, Predicted=7.105685, Expected=6.823000\n",
            "Hour=43, Predicted=6.914446, Expected=6.772000\n",
            "Hour=44, Predicted=6.779624, Expected=6.564000\n",
            "Hour=45, Predicted=6.489553, Expected=7.073000\n",
            "Hour=46, Predicted=6.926643, Expected=7.007000\n",
            "Hour=47, Predicted=6.831602, Expected=6.817000\n",
            "Hour=48, Predicted=6.669476, Expected=7.235000\n",
            "Hour=49, Predicted=7.117989, Expected=7.259000\n",
            "Hour=50, Predicted=7.127288, Expected=6.259000\n",
            "Hour=51, Predicted=6.083755, Expected=6.241000\n",
            "Hour=52, Predicted=6.056565, Expected=4.871000\n",
            "Hour=53, Predicted=4.730229, Expected=3.991000\n",
            "Hour=54, Predicted=3.906022, Expected=4.322000\n",
            "Hour=55, Predicted=4.282089, Expected=4.813000\n",
            "Hour=56, Predicted=4.809503, Expected=4.771000\n",
            "Hour=57, Predicted=4.802834, Expected=5.735000\n",
            "Hour=58, Predicted=5.806205, Expected=7.033000\n",
            "Hour=59, Predicted=7.148538, Expected=7.548000\n",
            "Hour=60, Predicted=7.709735, Expected=8.189000\n",
            "Hour=61, Predicted=8.391690, Expected=7.182000\n",
            "Hour=62, Predicted=7.411174, Expected=7.145000\n",
            "Hour=63, Predicted=7.379332, Expected=6.045000\n",
            "Hour=64, Predicted=6.264392, Expected=5.446000\n",
            "Hour=65, Predicted=5.638737, Expected=4.648000\n",
            "Hour=66, Predicted=4.808333, Expected=4.652000\n",
            "Hour=67, Predicted=4.775327, Expected=4.323000\n",
            "Hour=68, Predicted=4.404541, Expected=5.137000\n",
            "Hour=69, Predicted=5.174105, Expected=5.581000\n",
            "Hour=70, Predicted=5.575655, Expected=7.367000\n",
            "Hour=71, Predicted=7.328988, Expected=7.675000\n",
            "Hour=72, Predicted=7.620381, Expected=8.567000\n",
            "Hour=73, Predicted=8.507051, Expected=8.231000\n",
            "Hour=74, Predicted=8.166345, Expected=7.333000\n",
            "Hour=75, Predicted=7.260614, Expected=5.239000\n",
            "Hour=76, Predicted=5.163444, Expected=5.426000\n",
            "Hour=77, Predicted=5.358945, Expected=5.706000\n",
            "Hour=78, Predicted=5.656236, Expected=5.287000\n",
            "Hour=79, Predicted=5.257457, Expected=6.161000\n",
            "Hour=80, Predicted=6.151925, Expected=4.572000\n",
            "Hour=81, Predicted=4.583513, Expected=3.800000\n",
            "Hour=82, Predicted=3.832842, Expected=3.978000\n",
            "Hour=83, Predicted=4.033351, Expected=6.041000\n",
            "Hour=84, Predicted=6.119496, Expected=7.576000\n",
            "Hour=85, Predicted=7.676249, Expected=5.889000\n",
            "Hour=86, Predicted=6.006642, Expected=7.626000\n",
            "Hour=87, Predicted=7.754053, Expected=7.162000\n",
            "Hour=88, Predicted=7.292518, Expected=6.866000\n",
            "Hour=89, Predicted=6.991984, Expected=5.852000\n",
            "Hour=90, Predicted=5.968096, Expected=6.142000\n",
            "Hour=91, Predicted=6.244004, Expected=7.414000\n",
            "Hour=92, Predicted=7.498313, Expected=9.027000\n",
            "Hour=93, Predicted=9.090916, Expected=8.808000\n",
            "Hour=94, Predicted=8.850516, Expected=9.397000\n",
            "Hour=95, Predicted=9.419587, Expected=10.633000\n",
            "Hour=96, Predicted=10.639558, Expected=11.274000\n",
            "Hour=97, Predicted=11.269166, Expected=10.962000\n",
            "Hour=98, Predicted=10.949269, Expected=10.456000\n",
            "Hour=99, Predicted=10.437675, Expected=9.756000\n",
            "Hour=100, Predicted=9.734739, Expected=8.336000\n",
            "Hour=101, Predicted=8.315579, Expected=7.239000\n",
            "Hour=102, Predicted=7.223290, Expected=7.205000\n",
            "Hour=103, Predicted=7.196898, Expected=6.636000\n",
            "Hour=104, Predicted=6.637335, Expected=5.879000\n",
            "Hour=105, Predicted=5.890894, Expected=8.555000\n",
            "Hour=106, Predicted=8.578184, Expected=11.531000\n",
            "Hour=107, Predicted=11.565973, Expected=12.576000\n",
            "Hour=108, Predicted=12.622957, Expected=12.372000\n",
            "Hour=109, Predicted=12.430509, Expected=12.779000\n",
            "Hour=110, Predicted=12.847678, Expected=12.445000\n",
            "Hour=111, Predicted=12.521471, Expected=12.199000\n",
            "Hour=112, Predicted=12.280208, Expected=12.518000\n",
            "Hour=113, Predicted=12.600714, Expected=11.872000\n",
            "Hour=114, Predicted=11.953196, Expected=11.010000\n",
            "Hour=115, Predicted=11.087002, Expected=8.966000\n",
            "Hour=116, Predicted=9.036474, Expected=9.117000\n",
            "Hour=117, Predicted=9.179031, Expected=9.125000\n",
            "Hour=118, Predicted=9.177309, Expected=8.697000\n",
            "Hour=119, Predicted=8.739186, Expected=9.253000\n",
            "Hour=120, Predicted=9.285622, Expected=7.616000\n",
            "Hour=121, Predicted=7.640344, Expected=6.747000\n",
            "Hour=122, Predicted=6.764647, Expected=5.865000\n",
            "Hour=123, Predicted=5.877560, Expected=5.128000\n",
            "Hour=124, Predicted=5.137151, Expected=4.885000\n",
            "Hour=125, Predicted=4.892593, Expected=5.239000\n",
            "Hour=126, Predicted=5.246955, Expected=6.074000\n",
            "Hour=127, Predicted=6.084083, Expected=5.952000\n",
            "Hour=128, Predicted=5.965664, Expected=6.290000\n",
            "Hour=129, Predicted=6.308353, Expected=5.392000\n",
            "Hour=130, Predicted=5.415827, Expected=6.164000\n",
            "Hour=131, Predicted=6.193809, Expected=7.185000\n",
            "Hour=132, Predicted=7.221040, Expected=7.860000\n",
            "Hour=133, Predicted=7.902219, Expected=7.198000\n",
            "Hour=134, Predicted=7.245974, Expected=7.552000\n",
            "Hour=135, Predicted=7.604902, Expected=7.910000\n",
            "Hour=136, Predicted=7.966654, Expected=6.948000\n",
            "Hour=137, Predicted=7.007009, Expected=6.987000\n",
            "Hour=138, Predicted=7.046889, Expected=7.331000\n",
            "Hour=139, Predicted=7.390327, Expected=6.908000\n",
            "Hour=140, Predicted=6.965421, Expected=6.377000\n",
            "Hour=141, Predicted=6.431333, Expected=5.650000\n",
            "Hour=142, Predicted=5.700304, Expected=5.806000\n",
            "Hour=143, Predicted=5.851663, Expected=5.808000\n",
            "Hour=144, Predicted=5.848799, Expected=4.951000\n",
            "Hour=145, Predicted=4.987085, Expected=4.884000\n",
            "Hour=146, Predicted=4.915820, Expected=4.360000\n",
            "Hour=147, Predicted=4.388207, Expected=2.983000\n",
            "Hour=148, Predicted=3.008388, Expected=3.723000\n",
            "Hour=149, Predicted=3.746475, Expected=3.612000\n",
            "Hour=150, Predicted=3.634534, Expected=3.998000\n",
            "Hour=151, Predicted=4.020564, Expected=5.853000\n",
            "Hour=152, Predicted=5.876493, Expected=6.902000\n",
            "Hour=153, Predicted=6.927199, Expected=6.030000\n",
            "Hour=154, Predicted=6.057529, Expected=6.904000\n",
            "Hour=155, Predicted=6.934320, Expected=8.118000\n",
            "Hour=156, Predicted=8.151407, Expected=6.620000\n",
            "Hour=157, Predicted=6.656616, Expected=7.129000\n",
            "Hour=158, Predicted=7.168763, Expected=8.610000\n",
            "Hour=159, Predicted=8.652658, Expected=7.545000\n",
            "Hour=160, Predicted=7.590120, Expected=5.998000\n",
            "Hour=161, Predicted=6.045006, Expected=5.446000\n",
            "Hour=162, Predicted=5.494221, Expected=6.362000\n",
            "Hour=163, Predicted=6.410723, Expected=6.621000\n",
            "Hour=164, Predicted=6.669512, Expected=4.791000\n",
            "Hour=165, Predicted=4.838631, Expected=4.959000\n",
            "Hour=166, Predicted=5.005163, Expected=6.093000\n",
            "Hour=167, Predicted=6.137232, Expected=6.344000\n",
            "Hour=168, Predicted=6.385991, Expected=6.484000\n",
            "Hour=169, Predicted=6.523614, Expected=7.154000\n",
            "Hour=170, Predicted=7.191266, Expected=7.006000\n",
            "Hour=171, Predicted=7.041090, Expected=5.870000\n",
            "Hour=172, Predicted=5.903206, Expected=6.978000\n",
            "Hour=173, Predicted=7.009707, Expected=7.551000\n",
            "Hour=174, Predicted=7.581662, Expected=8.446000\n",
            "Hour=175, Predicted=8.476105, Expected=7.832000\n",
            "Hour=176, Predicted=7.862041, Expected=7.273000\n",
            "Hour=177, Predicted=7.303440, Expected=7.939000\n",
            "Hour=178, Predicted=7.970249, Expected=9.061000\n",
            "Hour=179, Predicted=9.093397, Expected=9.631000\n",
            "Hour=180, Predicted=9.664799, Expected=9.362000\n",
            "Hour=181, Predicted=9.397363, Expected=9.393000\n",
            "Hour=182, Predicted=9.429993, Expected=9.283000\n",
            "Hour=183, Predicted=9.321589, Expected=8.262000\n",
            "Hour=184, Predicted=8.302055, Expected=8.142000\n",
            "Hour=185, Predicted=8.183305, Expected=9.288000\n",
            "Hour=186, Predicted=9.330272, Expected=9.970000\n",
            "Hour=187, Predicted=10.012909, Expected=10.744000\n",
            "Hour=188, Predicted=10.787193, Expected=9.921000\n",
            "Hour=189, Predicted=9.964122, Expected=10.316000\n",
            "Hour=190, Predicted=10.358717, Expected=11.949000\n",
            "Hour=191, Predicted=11.991019, Expected=10.043000\n",
            "Hour=192, Predicted=10.084087, Expected=10.372000\n",
            "Hour=193, Predicted=10.411995, Expected=9.414000\n",
            "Hour=194, Predicted=9.452822, Expected=6.913000\n",
            "Hour=195, Predicted=6.950648, Expected=5.730000\n",
            "Hour=196, Predicted=5.766544, Expected=7.008000\n",
            "Hour=197, Predicted=7.043574, Expected=5.105000\n",
            "Hour=198, Predicted=5.139790, Expected=5.173000\n",
            "Hour=199, Predicted=5.207228, Expected=6.410000\n",
            "Hour=200, Predicted=6.443910, Expected=6.816000\n",
            "Hour=201, Predicted=6.849840, Expected=6.790000\n",
            "Hour=202, Predicted=6.824008, Expected=6.356000\n",
            "Hour=203, Predicted=6.390390, Expected=7.692000\n",
            "Hour=204, Predicted=7.726950, Expected=8.229000\n",
            "Hour=205, Predicted=8.264647, Expected=9.504000\n",
            "Hour=206, Predicted=9.540432, Expected=9.492000\n",
            "Hour=207, Predicted=9.529253, Expected=9.046000\n",
            "Hour=208, Predicted=9.084061, Expected=8.800000\n",
            "Hour=209, Predicted=8.838805, Expected=8.914000\n",
            "Hour=210, Predicted=8.953444, Expected=8.684000\n",
            "Hour=211, Predicted=8.723944, Expected=7.953000\n",
            "Hour=212, Predicted=7.993280, Expected=7.987000\n",
            "Hour=213, Predicted=8.027441, Expected=7.830000\n",
            "Hour=214, Predicted=7.870424, Expected=7.436000\n",
            "Hour=215, Predicted=7.476239, Expected=7.217000\n",
            "Hour=216, Predicted=7.256907, Expected=6.623000\n",
            "Hour=217, Predicted=6.662456, Expected=5.746000\n",
            "Hour=218, Predicted=5.784921, Expected=5.834000\n",
            "Hour=219, Predicted=5.872340, Expected=5.217000\n",
            "Hour=220, Predicted=5.254752, Expected=4.844000\n",
            "Hour=221, Predicted=4.881193, Expected=5.219000\n",
            "Hour=222, Predicted=5.255696, Expected=5.217000\n",
            "Hour=223, Predicted=5.253289, Expected=5.569000\n",
            "Hour=224, Predicted=5.604990, Expected=6.198000\n",
            "Hour=225, Predicted=6.233813, Expected=7.033000\n",
            "Hour=226, Predicted=7.068761, Expected=7.585000\n",
            "Hour=227, Predicted=7.620829, Expected=8.710000\n",
            "Hour=228, Predicted=8.746008, Expected=9.328000\n",
            "Hour=229, Predicted=9.364280, Expected=9.754000\n",
            "Hour=230, Predicted=9.790624, Expected=9.807000\n",
            "Hour=231, Predicted=9.844015, Expected=9.827000\n",
            "Hour=232, Predicted=9.864427, Expected=9.954000\n",
            "Hour=233, Predicted=9.991835, Expected=9.973000\n",
            "Hour=234, Predicted=10.011214, Expected=10.121000\n",
            "Hour=235, Predicted=10.159541, Expected=10.171000\n",
            "Hour=236, Predicted=10.209800, Expected=10.042000\n",
            "Hour=237, Predicted=10.080978, Expected=10.046000\n",
            "Hour=238, Predicted=10.085068, Expected=9.970000\n",
            "Hour=239, Predicted=10.009069, Expected=9.886000\n",
            "Hour=240, Predicted=9.924986, Expected=9.181000\n",
            "Hour=241, Predicted=9.219829, Expected=7.065000\n",
            "Hour=242, Predicted=7.103610, Expected=5.794000\n",
            "Hour=243, Predicted=5.832347, Expected=5.748000\n",
            "Hour=244, Predicted=5.786059, Expected=6.121000\n",
            "Hour=245, Predicted=6.158764, Expected=6.211000\n",
            "Hour=246, Predicted=6.248481, Expected=6.449000\n",
            "Hour=247, Predicted=6.486228, Expected=6.772000\n",
            "Hour=248, Predicted=6.809017, Expected=6.721000\n",
            "Hour=249, Predicted=6.757860, Expected=9.616000\n",
            "Hour=250, Predicted=9.652762, Expected=11.490000\n",
            "Hour=251, Predicted=11.526728, Expected=11.771000\n",
            "Hour=252, Predicted=11.807755, Expected=11.905000\n",
            "Hour=253, Predicted=11.941838, Expected=11.968000\n",
            "Hour=254, Predicted=12.004969, Expected=11.416000\n",
            "Hour=255, Predicted=11.453138, Expected=9.844000\n",
            "Hour=256, Predicted=9.881332, Expected=8.773000\n",
            "Hour=257, Predicted=8.810539, Expected=7.507000\n",
            "Hour=258, Predicted=7.544744, Expected=6.371000\n",
            "Hour=259, Predicted=6.408936, Expected=5.142000\n",
            "Hour=260, Predicted=5.180104, Expected=3.325000\n",
            "Hour=261, Predicted=3.363238, Expected=1.945000\n",
            "Hour=262, Predicted=1.983332, Expected=1.371000\n",
            "Hour=263, Predicted=1.409383, Expected=0.998000\n",
            "Hour=264, Predicted=1.036388, Expected=0.575000\n",
            "Hour=265, Predicted=0.613352, Expected=0.597000\n",
            "Hour=266, Predicted=0.635277, Expected=0.425000\n",
            "Hour=267, Predicted=0.463171, Expected=0.297000\n",
            "Hour=268, Predicted=0.335042, Expected=0.716000\n",
            "Hour=269, Predicted=0.753899, Expected=0.676000\n",
            "Hour=270, Predicted=0.713751, Expected=0.721000\n",
            "Hour=271, Predicted=0.758609, Expected=0.717000\n",
            "Hour=272, Predicted=0.754479, Expected=0.773000\n",
            "Hour=273, Predicted=0.810371, Expected=0.784000\n",
            "Hour=274, Predicted=0.821288, Expected=0.529000\n",
            "Hour=275, Predicted=0.566235, Expected=0.582000\n",
            "Hour=276, Predicted=0.619214, Expected=0.884000\n",
            "Hour=277, Predicted=0.921223, Expected=1.026000\n",
            "Hour=278, Predicted=1.063262, Expected=1.621000\n",
            "Hour=279, Predicted=1.658325, Expected=2.617000\n",
            "Hour=280, Predicted=2.654407, Expected=2.496000\n",
            "Hour=281, Predicted=2.533504, Expected=2.796000\n",
            "Hour=282, Predicted=2.833607, Expected=3.908000\n",
            "Hour=283, Predicted=3.945710, Expected=3.638000\n",
            "Hour=284, Predicted=3.675808, Expected=4.331000\n",
            "Hour=285, Predicted=4.368894, Expected=4.234000\n",
            "Hour=286, Predicted=4.271963, Expected=4.652000\n",
            "Hour=287, Predicted=4.690013, Expected=4.789000\n",
            "Hour=288, Predicted=4.827041, Expected=4.766000\n",
            "Hour=289, Predicted=4.804046, Expected=4.214000\n",
            "Hour=290, Predicted=4.252031, Expected=2.950000\n",
            "Hour=291, Predicted=2.987995, Expected=2.365000\n",
            "Hour=292, Predicted=2.402944, Expected=2.182000\n",
            "Hour=293, Predicted=2.219880, Expected=2.149000\n",
            "Hour=294, Predicted=2.186810, Expected=2.002000\n",
            "Hour=295, Predicted=2.039736, Expected=1.790000\n",
            "Hour=296, Predicted=1.827663, Expected=2.312000\n",
            "Hour=297, Predicted=2.349598, Expected=3.895000\n",
            "Hour=298, Predicted=3.932542, Expected=5.792000\n",
            "Hour=299, Predicted=5.829498, Expected=6.034000\n",
            "Hour=300, Predicted=6.071470, Expected=7.176000\n",
            "Hour=301, Predicted=7.213457, Expected=7.263000\n",
            "Hour=302, Predicted=7.300460, Expected=7.984000\n",
            "Hour=303, Predicted=8.021478, Expected=8.490000\n",
            "Hour=304, Predicted=8.527508, Expected=7.473000\n",
            "Hour=305, Predicted=7.510548, Expected=7.343000\n",
            "Hour=306, Predicted=7.380596, Expected=8.443000\n",
            "Hour=307, Predicted=8.480647, Expected=7.257000\n",
            "Hour=308, Predicted=7.294699, Expected=7.212000\n",
            "Hour=309, Predicted=7.249749, Expected=6.917000\n",
            "Hour=310, Predicted=6.954793, Expected=8.131000\n",
            "Hour=311, Predicted=8.168829, Expected=8.571000\n",
            "Hour=312, Predicted=8.608855, Expected=8.342000\n",
            "Hour=313, Predicted=8.379870, Expected=7.932000\n",
            "Hour=314, Predicted=7.969874, Expected=7.540000\n",
            "Hour=315, Predicted=7.577868, Expected=8.352000\n",
            "Hour=316, Predicted=8.389851, Expected=8.082000\n",
            "Hour=317, Predicted=8.119826, Expected=8.707000\n",
            "Hour=318, Predicted=8.744795, Expected=9.305000\n",
            "Hour=319, Predicted=9.342760, Expected=8.983000\n",
            "Hour=320, Predicted=9.020723, Expected=8.311000\n",
            "Hour=321, Predicted=8.348687, Expected=9.156000\n",
            "Hour=322, Predicted=9.193653, Expected=10.680000\n",
            "Hour=323, Predicted=10.717625, Expected=11.005000\n",
            "Hour=324, Predicted=11.042602, Expected=9.536000\n",
            "Hour=325, Predicted=9.573587, Expected=8.504000\n",
            "Hour=326, Predicted=8.541579, Expected=8.604000\n",
            "Hour=327, Predicted=8.641580, Expected=8.515000\n",
            "Hour=328, Predicted=8.552588, Expected=8.881000\n",
            "Hour=329, Predicted=8.918602, Expected=8.849000\n",
            "Hour=330, Predicted=8.886622, Expected=9.049000\n",
            "Hour=331, Predicted=9.086645, Expected=8.261000\n",
            "Hour=332, Predicted=8.298671, Expected=8.891000\n",
            "Hour=333, Predicted=8.928697, Expected=7.889000\n",
            "Hour=334, Predicted=7.926722, Expected=6.722000\n",
            "Hour=335, Predicted=6.759745, Expected=9.054000\n",
            "Hour=336, Predicted=9.091763, Expected=9.648000\n",
            "Hour=337, Predicted=9.685777, Expected=10.524000\n",
            "Hour=338, Predicted=10.561785, Expected=10.064000\n",
            "Hour=339, Predicted=10.101788, Expected=10.372000\n",
            "Hour=340, Predicted=10.409785, Expected=8.210000\n",
            "Hour=341, Predicted=8.247778, Expected=6.229000\n",
            "Hour=342, Predicted=6.266766, Expected=8.434000\n",
            "Hour=343, Predicted=8.471750, Expected=9.064000\n",
            "Hour=344, Predicted=9.101733, Expected=7.099000\n",
            "Hour=345, Predicted=7.136714, Expected=7.422000\n",
            "Hour=346, Predicted=7.459696, Expected=6.689000\n",
            "Hour=347, Predicted=6.726679, Expected=8.859000\n",
            "Hour=348, Predicted=8.896664, Expected=10.371000\n",
            "Hour=349, Predicted=10.408653, Expected=8.647000\n",
            "Hour=350, Predicted=8.684645, Expected=5.955000\n",
            "Hour=351, Predicted=5.992640, Expected=7.224000\n",
            "Hour=352, Predicted=7.261640, Expected=8.591000\n",
            "Hour=353, Predicted=8.628644, Expected=8.639000\n",
            "Hour=354, Predicted=8.676650, Expected=6.731000\n",
            "Hour=355, Predicted=6.768660, Expected=6.851000\n",
            "Hour=356, Predicted=6.888672, Expected=6.924000\n",
            "Hour=357, Predicted=6.961685, Expected=6.325000\n",
            "Hour=358, Predicted=6.362698, Expected=5.603000\n",
            "Hour=359, Predicted=5.640710, Expected=6.995000\n",
            "Hour=360, Predicted=7.032722, Expected=6.324000\n",
            "Hour=361, Predicted=6.361731, Expected=7.063000\n",
            "Hour=362, Predicted=7.100738, Expected=7.313000\n",
            "Hour=363, Predicted=7.350743, Expected=8.118000\n",
            "Hour=364, Predicted=8.155745, Expected=7.203000\n",
            "Hour=365, Predicted=7.240744, Expected=6.611000\n",
            "Hour=366, Predicted=6.648740, Expected=5.961000\n",
            "Hour=367, Predicted=5.998734, Expected=6.144000\n",
            "Hour=368, Predicted=6.181727, Expected=6.583000\n",
            "Hour=369, Predicted=6.620718, Expected=9.085000\n",
            "Hour=370, Predicted=9.122709, Expected=8.408000\n",
            "Hour=371, Predicted=8.445700, Expected=9.936000\n",
            "Hour=372, Predicted=9.973691, Expected=10.118000\n",
            "Hour=373, Predicted=10.155684, Expected=9.701000\n",
            "Hour=374, Predicted=9.738678, Expected=9.130000\n",
            "Hour=375, Predicted=9.167673, Expected=8.621000\n",
            "Hour=376, Predicted=8.658671, Expected=8.880000\n",
            "Hour=377, Predicted=8.917671, Expected=7.231000\n",
            "Hour=378, Predicted=7.268672, Expected=7.999000\n",
            "Hour=379, Predicted=8.036675, Expected=7.577000\n",
            "Hour=380, Predicted=7.614680, Expected=7.528000\n",
            "Hour=381, Predicted=7.565686, Expected=6.769000\n",
            "Hour=382, Predicted=6.806692, Expected=5.502000\n",
            "Hour=383, Predicted=5.539699, Expected=4.087000\n",
            "Hour=384, Predicted=4.124705, Expected=2.516000\n",
            "Hour=385, Predicted=2.553711, Expected=1.028000\n",
            "Hour=386, Predicted=1.065716, Expected=1.050000\n",
            "Hour=387, Predicted=1.087719, Expected=2.132000\n",
            "Hour=388, Predicted=2.169722, Expected=2.701000\n",
            "Hour=389, Predicted=2.738723, Expected=2.895000\n",
            "Hour=390, Predicted=2.932723, Expected=3.278000\n",
            "Hour=391, Predicted=3.315721, Expected=4.449000\n",
            "Hour=392, Predicted=4.486718, Expected=5.617000\n",
            "Hour=393, Predicted=5.654714, Expected=7.398000\n",
            "Hour=394, Predicted=7.435710, Expected=8.914000\n",
            "Hour=395, Predicted=8.951706, Expected=8.977000\n",
            "Hour=396, Predicted=9.014701, Expected=9.886000\n",
            "Hour=397, Predicted=9.923697, Expected=9.517000\n",
            "Hour=398, Predicted=9.554693, Expected=9.150000\n",
            "Hour=399, Predicted=9.187690, Expected=8.328000\n",
            "Hour=400, Predicted=8.365687, Expected=8.330000\n",
            "Hour=401, Predicted=8.367686, Expected=7.894000\n",
            "Hour=402, Predicted=7.931686, Expected=7.928000\n",
            "Hour=403, Predicted=7.965686, Expected=8.716000\n",
            "Hour=404, Predicted=8.753688, Expected=9.056000\n",
            "Hour=405, Predicted=9.093690, Expected=8.179000\n",
            "Hour=406, Predicted=8.216693, Expected=6.889000\n",
            "Hour=407, Predicted=6.926696, Expected=5.997000\n",
            "Hour=408, Predicted=6.034700, Expected=5.159000\n",
            "Hour=409, Predicted=5.196703, Expected=4.561000\n",
            "Hour=410, Predicted=4.598706, Expected=2.737000\n",
            "Hour=411, Predicted=2.774708, Expected=2.492000\n",
            "Hour=412, Predicted=2.529710, Expected=3.118000\n",
            "Hour=413, Predicted=3.155712, Expected=3.821000\n",
            "Hour=414, Predicted=3.858712, Expected=4.161000\n",
            "Hour=415, Predicted=4.198712, Expected=4.884000\n",
            "Hour=416, Predicted=4.921711, Expected=5.807000\n",
            "Hour=417, Predicted=5.844710, Expected=7.769000\n",
            "Hour=418, Predicted=7.806708, Expected=7.675000\n",
            "Hour=419, Predicted=7.712706, Expected=9.261000\n",
            "Hour=420, Predicted=9.298704, Expected=10.827000\n",
            "Hour=421, Predicted=10.864701, Expected=11.951000\n",
            "Hour=422, Predicted=11.988699, Expected=12.823000\n",
            "Hour=423, Predicted=12.860697, Expected=13.254000\n",
            "Hour=424, Predicted=13.291696, Expected=12.756000\n",
            "Hour=425, Predicted=12.793695, Expected=11.430000\n",
            "Hour=426, Predicted=11.467694, Expected=10.647000\n",
            "Hour=427, Predicted=10.684694, Expected=11.841000\n",
            "Hour=428, Predicted=11.878694, Expected=13.705000\n",
            "Hour=429, Predicted=13.742694, Expected=14.290000\n",
            "Hour=430, Predicted=14.327696, Expected=14.878000\n",
            "Hour=431, Predicted=14.915697, Expected=13.796000\n",
            "Hour=432, Predicted=13.833698, Expected=15.939000\n",
            "Hour=433, Predicted=15.976700, Expected=16.118000\n",
            "Hour=434, Predicted=16.155702, Expected=13.088000\n",
            "Hour=435, Predicted=13.125703, Expected=10.997000\n",
            "Hour=436, Predicted=11.034705, Expected=12.651000\n",
            "Hour=437, Predicted=12.688706, Expected=14.852000\n",
            "Hour=438, Predicted=14.889706, Expected=16.876000\n",
            "Hour=439, Predicted=16.913707, Expected=15.176000\n",
            "Hour=440, Predicted=15.213707, Expected=12.483000\n",
            "Hour=441, Predicted=12.520706, Expected=13.725000\n",
            "Hour=442, Predicted=13.762706, Expected=15.000000\n",
            "Hour=443, Predicted=15.037705, Expected=13.186000\n",
            "Hour=444, Predicted=13.223704, Expected=13.870000\n",
            "Hour=445, Predicted=13.907703, Expected=16.796000\n",
            "Hour=446, Predicted=16.833702, Expected=14.534000\n",
            "Hour=447, Predicted=14.571700, Expected=11.930000\n",
            "Hour=448, Predicted=11.967699, Expected=14.098000\n",
            "Hour=449, Predicted=14.135698, Expected=12.133000\n",
            "Hour=450, Predicted=12.170698, Expected=12.042000\n",
            "Hour=451, Predicted=12.079698, Expected=13.351000\n",
            "Hour=452, Predicted=13.388697, Expected=13.093000\n",
            "Hour=453, Predicted=13.130697, Expected=12.662000\n",
            "Hour=454, Predicted=12.699698, Expected=12.548000\n",
            "Hour=455, Predicted=12.585698, Expected=12.165000\n",
            "Hour=456, Predicted=12.202699, Expected=12.110000\n",
            "Hour=457, Predicted=12.147700, Expected=10.907000\n",
            "Hour=458, Predicted=10.944701, Expected=10.501000\n",
            "Hour=459, Predicted=10.538702, Expected=9.937000\n",
            "Hour=460, Predicted=9.974702, Expected=9.870000\n",
            "Hour=461, Predicted=9.907703, Expected=9.956000\n",
            "Hour=462, Predicted=9.993703, Expected=10.020000\n",
            "Hour=463, Predicted=10.057704, Expected=9.979000\n",
            "Hour=464, Predicted=10.016704, Expected=10.001000\n",
            "Hour=465, Predicted=10.038704, Expected=10.698000\n",
            "Hour=466, Predicted=10.735704, Expected=11.365000\n",
            "Hour=467, Predicted=11.402703, Expected=11.339000\n",
            "Hour=468, Predicted=11.376703, Expected=11.033000\n",
            "Hour=469, Predicted=11.070703, Expected=10.991000\n",
            "Hour=470, Predicted=11.028702, Expected=10.851000\n",
            "Hour=471, Predicted=10.888701, Expected=10.333000\n",
            "Hour=472, Predicted=10.370701, Expected=9.603000\n",
            "Hour=473, Predicted=9.640700, Expected=8.412000\n",
            "Hour=474, Predicted=8.449700, Expected=7.977000\n",
            "Hour=475, Predicted=8.014700, Expected=7.774000\n",
            "Hour=476, Predicted=7.811699, Expected=5.414000\n",
            "Hour=477, Predicted=5.451699, Expected=6.516000\n",
            "Hour=478, Predicted=6.553699, Expected=6.946000\n",
            "Hour=479, Predicted=6.983699, Expected=5.666000\n",
            "Hour=480, Predicted=5.703700, Expected=4.818000\n",
            "Hour=481, Predicted=4.855700, Expected=2.691000\n",
            "Hour=482, Predicted=2.728701, Expected=1.594000\n",
            "Hour=483, Predicted=1.631701, Expected=1.596000\n",
            "Hour=484, Predicted=1.633701, Expected=2.073000\n",
            "Hour=485, Predicted=2.110702, Expected=2.295000\n",
            "Hour=486, Predicted=2.332702, Expected=2.183000\n",
            "Hour=487, Predicted=2.220702, Expected=2.016000\n",
            "Hour=488, Predicted=2.053703, Expected=2.348000\n",
            "Hour=489, Predicted=2.385703, Expected=2.246000\n",
            "Hour=490, Predicted=2.283703, Expected=2.971000\n",
            "Hour=491, Predicted=3.008703, Expected=3.824000\n",
            "Hour=492, Predicted=3.861702, Expected=4.628000\n",
            "Hour=493, Predicted=4.665702, Expected=5.292000\n",
            "Hour=494, Predicted=5.329702, Expected=5.602000\n",
            "Hour=495, Predicted=5.639702, Expected=5.778000\n",
            "Hour=496, Predicted=5.815701, Expected=6.464000\n",
            "Hour=497, Predicted=6.501701, Expected=8.192000\n",
            "Hour=498, Predicted=8.229701, Expected=8.717000\n",
            "Hour=499, Predicted=8.754701, Expected=8.441000\n",
            "Hour=500, Predicted=8.478701, Expected=8.426000\n",
            "Hour=501, Predicted=8.463700, Expected=8.056000\n",
            "Hour=502, Predicted=8.093700, Expected=7.224000\n",
            "Hour=503, Predicted=7.261700, Expected=7.387000\n",
            "Hour=504, Predicted=7.424700, Expected=7.464000\n",
            "Hour=505, Predicted=7.501701, Expected=6.000000\n",
            "Hour=506, Predicted=6.037701, Expected=4.958000\n",
            "Hour=507, Predicted=4.995701, Expected=4.760000\n",
            "Hour=508, Predicted=4.797701, Expected=5.322000\n",
            "Hour=509, Predicted=5.359701, Expected=7.149000\n",
            "Hour=510, Predicted=7.186702, Expected=5.954000\n",
            "Hour=511, Predicted=5.991702, Expected=6.410000\n",
            "Hour=512, Predicted=6.447702, Expected=6.323000\n",
            "Hour=513, Predicted=6.360702, Expected=6.372000\n",
            "Hour=514, Predicted=6.409702, Expected=6.918000\n",
            "Hour=515, Predicted=6.955702, Expected=7.272000\n",
            "Hour=516, Predicted=7.309702, Expected=6.878000\n",
            "Hour=517, Predicted=6.915702, Expected=5.490000\n",
            "Hour=518, Predicted=5.527702, Expected=5.100000\n",
            "Hour=519, Predicted=5.137702, Expected=5.649000\n",
            "Hour=520, Predicted=5.686701, Expected=5.373000\n",
            "Hour=521, Predicted=5.410701, Expected=6.110000\n",
            "Hour=522, Predicted=6.147701, Expected=3.318000\n",
            "Hour=523, Predicted=3.355701, Expected=5.897000\n",
            "Hour=524, Predicted=5.934701, Expected=8.966000\n",
            "Hour=525, Predicted=9.003701, Expected=7.403000\n",
            "Hour=526, Predicted=7.440701, Expected=7.892000\n",
            "Hour=527, Predicted=7.929701, Expected=8.539000\n",
            "Hour=528, Predicted=8.576701, Expected=8.207000\n",
            "Hour=529, Predicted=8.244701, Expected=6.940000\n",
            "Hour=530, Predicted=6.977701, Expected=5.432000\n",
            "Hour=531, Predicted=5.469701, Expected=4.578000\n",
            "Hour=532, Predicted=4.615701, Expected=4.849000\n",
            "Hour=533, Predicted=4.886701, Expected=4.353000\n",
            "Hour=534, Predicted=4.390701, Expected=4.859000\n",
            "Hour=535, Predicted=4.896701, Expected=4.863000\n",
            "Hour=536, Predicted=4.900701, Expected=4.349000\n",
            "Hour=537, Predicted=4.386702, Expected=3.968000\n",
            "Hour=538, Predicted=4.005702, Expected=2.706000\n",
            "Hour=539, Predicted=2.743702, Expected=1.452000\n",
            "Hour=540, Predicted=1.489702, Expected=1.175000\n",
            "Hour=541, Predicted=1.212702, Expected=5.411000\n",
            "Hour=542, Predicted=5.448702, Expected=7.021000\n",
            "Hour=543, Predicted=7.058702, Expected=7.419000\n",
            "Hour=544, Predicted=7.456702, Expected=8.009000\n",
            "Hour=545, Predicted=8.046701, Expected=8.709000\n",
            "Hour=546, Predicted=8.746701, Expected=7.117000\n",
            "Hour=547, Predicted=7.154701, Expected=6.777000\n",
            "Hour=548, Predicted=6.814701, Expected=5.811000\n",
            "Hour=549, Predicted=5.848701, Expected=5.862000\n",
            "Hour=550, Predicted=5.899701, Expected=6.367000\n",
            "Hour=551, Predicted=6.404701, Expected=6.531000\n",
            "Hour=552, Predicted=6.568701, Expected=7.366000\n",
            "Hour=553, Predicted=7.403701, Expected=6.669000\n",
            "Hour=554, Predicted=6.706701, Expected=5.188000\n",
            "Hour=555, Predicted=5.225701, Expected=4.660000\n",
            "Hour=556, Predicted=4.697701, Expected=6.036000\n",
            "Hour=557, Predicted=6.073701, Expected=7.641000\n",
            "Hour=558, Predicted=7.678701, Expected=7.521000\n",
            "Hour=559, Predicted=7.558701, Expected=8.478000\n",
            "Hour=560, Predicted=8.515701, Expected=9.980000\n",
            "Hour=561, Predicted=10.017701, Expected=10.267000\n",
            "Hour=562, Predicted=10.304701, Expected=10.317000\n",
            "Hour=563, Predicted=10.354702, Expected=11.379000\n",
            "Hour=564, Predicted=11.416702, Expected=11.781000\n",
            "Hour=565, Predicted=11.818702, Expected=12.021000\n",
            "Hour=566, Predicted=12.058701, Expected=13.089000\n",
            "Hour=567, Predicted=13.126701, Expected=12.190000\n",
            "Hour=568, Predicted=12.227701, Expected=13.501000\n",
            "Hour=569, Predicted=13.538701, Expected=13.161000\n",
            "Hour=570, Predicted=13.198701, Expected=12.178000\n",
            "Hour=571, Predicted=12.215701, Expected=8.015000\n",
            "Hour=572, Predicted=8.052701, Expected=11.322000\n",
            "Hour=573, Predicted=11.359701, Expected=12.974000\n",
            "Hour=574, Predicted=13.011701, Expected=10.916000\n",
            "Hour=575, Predicted=10.953701, Expected=13.800000\n",
            "Hour=576, Predicted=13.837701, Expected=13.900000\n",
            "Hour=577, Predicted=13.937701, Expected=11.913000\n",
            "Hour=578, Predicted=11.950701, Expected=11.025000\n",
            "Hour=579, Predicted=11.062701, Expected=11.315000\n",
            "Hour=580, Predicted=11.352701, Expected=12.262000\n",
            "Hour=581, Predicted=12.299701, Expected=12.886000\n",
            "Hour=582, Predicted=12.923701, Expected=12.781000\n",
            "Hour=583, Predicted=12.818701, Expected=12.203000\n",
            "Hour=584, Predicted=12.240701, Expected=11.913000\n",
            "Hour=585, Predicted=11.950701, Expected=10.786000\n",
            "Hour=586, Predicted=10.823701, Expected=10.217000\n",
            "Hour=587, Predicted=10.254701, Expected=9.791000\n",
            "Hour=588, Predicted=9.828701, Expected=9.300000\n",
            "Hour=589, Predicted=9.337701, Expected=8.627000\n",
            "Hour=590, Predicted=8.664701, Expected=7.704000\n",
            "Hour=591, Predicted=7.741701, Expected=7.421000\n",
            "Hour=592, Predicted=7.458701, Expected=7.466000\n",
            "Hour=593, Predicted=7.503701, Expected=7.707000\n",
            "Hour=594, Predicted=7.744701, Expected=7.052000\n",
            "Hour=595, Predicted=7.089701, Expected=6.334000\n",
            "Hour=596, Predicted=6.371701, Expected=5.673000\n",
            "Hour=597, Predicted=5.710701, Expected=5.609000\n",
            "Hour=598, Predicted=5.646701, Expected=5.323000\n",
            "Hour=599, Predicted=5.360701, Expected=5.366000\n",
            "Hour=600, Predicted=5.403701, Expected=4.016000\n",
            "Hour=601, Predicted=4.053701, Expected=3.171000\n",
            "Hour=602, Predicted=3.208701, Expected=3.668000\n",
            "Hour=603, Predicted=3.705701, Expected=3.619000\n",
            "Hour=604, Predicted=3.656701, Expected=3.119000\n",
            "Hour=605, Predicted=3.156701, Expected=2.772000\n",
            "Hour=606, Predicted=2.809701, Expected=2.203000\n",
            "Hour=607, Predicted=2.240701, Expected=1.946000\n",
            "Hour=608, Predicted=1.983701, Expected=1.821000\n",
            "Hour=609, Predicted=1.858701, Expected=2.199000\n",
            "Hour=610, Predicted=2.236701, Expected=2.396000\n",
            "Hour=611, Predicted=2.433701, Expected=2.580000\n",
            "Hour=612, Predicted=2.617701, Expected=3.034000\n",
            "Hour=613, Predicted=3.071701, Expected=3.930000\n",
            "Hour=614, Predicted=3.967701, Expected=4.449000\n",
            "Hour=615, Predicted=4.486701, Expected=4.548000\n",
            "Hour=616, Predicted=4.585701, Expected=3.646000\n",
            "Hour=617, Predicted=3.683701, Expected=3.948000\n",
            "Hour=618, Predicted=3.985701, Expected=4.492000\n",
            "Hour=619, Predicted=4.529701, Expected=5.856000\n",
            "Hour=620, Predicted=5.893701, Expected=6.254000\n",
            "Hour=621, Predicted=6.291701, Expected=6.698000\n",
            "Hour=622, Predicted=6.735701, Expected=7.444000\n",
            "Hour=623, Predicted=7.481701, Expected=7.855000\n",
            "Hour=624, Predicted=7.892701, Expected=6.500000\n",
            "Hour=625, Predicted=6.537701, Expected=5.213000\n",
            "Hour=626, Predicted=5.250701, Expected=4.029000\n",
            "Hour=627, Predicted=4.066701, Expected=3.029000\n",
            "Hour=628, Predicted=3.066701, Expected=4.131000\n",
            "Hour=629, Predicted=4.168701, Expected=5.120000\n",
            "Hour=630, Predicted=5.157701, Expected=6.159000\n",
            "Hour=631, Predicted=6.196701, Expected=6.296000\n",
            "Hour=632, Predicted=6.333701, Expected=7.508000\n",
            "Hour=633, Predicted=7.545701, Expected=8.304000\n",
            "Hour=634, Predicted=8.341701, Expected=8.541000\n",
            "Hour=635, Predicted=8.578701, Expected=10.554000\n",
            "Hour=636, Predicted=10.591701, Expected=8.434000\n",
            "Hour=637, Predicted=8.471701, Expected=2.777000\n",
            "Hour=638, Predicted=2.814701, Expected=4.859000\n",
            "Hour=639, Predicted=4.896701, Expected=3.214000\n",
            "Hour=640, Predicted=3.251701, Expected=2.742000\n",
            "Hour=641, Predicted=2.779701, Expected=3.269000\n",
            "Hour=642, Predicted=3.306701, Expected=4.943000\n",
            "Hour=643, Predicted=4.980701, Expected=6.745000\n",
            "Hour=644, Predicted=6.782701, Expected=8.031000\n",
            "Hour=645, Predicted=8.068701, Expected=8.777000\n",
            "Hour=646, Predicted=8.814701, Expected=9.162000\n",
            "Hour=647, Predicted=9.199701, Expected=8.743000\n",
            "Hour=648, Predicted=8.780701, Expected=8.285000\n",
            "Hour=649, Predicted=8.322701, Expected=7.458000\n",
            "Hour=650, Predicted=7.495701, Expected=7.447000\n",
            "Hour=651, Predicted=7.484701, Expected=7.876000\n",
            "Hour=652, Predicted=7.913701, Expected=9.197000\n",
            "Hour=653, Predicted=9.234701, Expected=9.699000\n",
            "Hour=654, Predicted=9.736701, Expected=10.083000\n",
            "Hour=655, Predicted=10.120701, Expected=9.433000\n",
            "Hour=656, Predicted=9.470701, Expected=9.385000\n",
            "Hour=657, Predicted=9.422701, Expected=9.137000\n",
            "Hour=658, Predicted=9.174701, Expected=9.288000\n",
            "Hour=659, Predicted=9.325701, Expected=9.174000\n",
            "Hour=660, Predicted=9.211701, Expected=9.025000\n",
            "Hour=661, Predicted=9.062701, Expected=8.318000\n",
            "Hour=662, Predicted=8.355701, Expected=7.731000\n",
            "Hour=663, Predicted=7.768701, Expected=6.803000\n",
            "Hour=664, Predicted=6.840701, Expected=6.252000\n",
            "Hour=665, Predicted=6.289701, Expected=6.306000\n",
            "Hour=666, Predicted=6.343701, Expected=5.491000\n",
            "Hour=667, Predicted=5.528701, Expected=5.325000\n",
            "Hour=668, Predicted=5.362701, Expected=5.351000\n",
            "Hour=669, Predicted=5.388701, Expected=5.375000\n",
            "Hour=670, Predicted=5.412701, Expected=5.498000\n",
            "Hour=671, Predicted=5.535701, Expected=4.973000\n",
            "Hour=672, Predicted=5.010701, Expected=4.072000\n"
          ],
          "name": "stdout"
        }
      ]
    },
    {
      "cell_type": "code",
      "metadata": {
        "id": "XGm_nZEqjueu",
        "colab_type": "code",
        "colab": {
          "base_uri": "https://localhost:8080/",
          "height": 402
        },
        "outputId": "a01eb389-8f17-4067-bf27-c1910c924c33"
      },
      "source": [
        "# line plot of observed vs predicted\n",
        "pyplot.figure(figsize=(20,8))\n",
        "pyplot.plot(expectations_plot, label=\"True\")\n",
        "pyplot.plot(predictions_plot, label=\"Predicted\")\n",
        "pyplot.legend(loc='upper right')\n",
        "pyplot.xlabel(\"Number of hours\")\n",
        "pyplot.ylabel(\"Power generated by system (kW)\")\n",
        "pyplot.show()"
      ],
      "execution_count": 43,
      "outputs": [
        {
          "output_type": "display_data",
          "data": {
            "image/png": "[encoded data removed]",
            "text/plain": [
              "<Figure size 1440x576 with 1 Axes>"
            ]
          },
          "metadata": {
            "tags": [],
            "needs_background": "light"
          }
        }
      ]
    },
    {
      "cell_type": "code",
      "metadata": {
        "id": "wI4KIjXFFGtC",
        "colab_type": "code",
        "outputId": "b5128a2e-0f1e-45ab-8c15-d237d63de001",
        "colab": {
          "base_uri": "https://localhost:8080/",
          "height": 34
        }
      },
      "source": [
        "expectations = np.array(expectations)\n",
        "predictions = np.array(predictions)\n",
        "print(\"Mean Absolute Percent Error: \", (np.mean(np.abs((expectations - predictions) / expectations))*100))"
      ],
      "execution_count": 44,
      "outputs": [
        {
          "output_type": "stream",
          "text": [
            "Mean Absolute Percent Error:  12.858184329509644\n"
          ],
          "name": "stdout"
        }
      ]
    },
    {
      "cell_type": "code",
      "metadata": {
        "id": "5Oo2pe2nHMS-",
        "colab_type": "code",
        "outputId": "484ceab1-8f5a-447a-e428-6cec02077d49",
        "colab": {
          "base_uri": "https://localhost:8080/",
          "height": 34
        }
      },
      "source": [
        "from sklearn.metrics import explained_variance_score\n",
        "print(\"expected variance score\",explained_variance_score(expectations,predictions))\n"
      ],
      "execution_count": 45,
      "outputs": [
        {
          "output_type": "stream",
          "text": [
            "expected variance score 0.8837634024618046\n"
          ],
          "name": "stdout"
        }
      ]
    },
    {
      "cell_type": "code",
      "metadata": {
        "id": "19rnxMC-HxTB",
        "colab_type": "code",
        "outputId": "c889ee4c-5655-44b9-f2be-e1da7f87f9db",
        "colab": {
          "base_uri": "https://localhost:8080/",
          "height": 34
        }
      },
      "source": [
        "from sklearn.metrics import max_error\n",
        "print(\"max error:\",max_error(expectations, predictions))"
      ],
      "execution_count": 46,
      "outputs": [
        {
          "output_type": "stream",
          "text": [
            "max error: 5.694701372399927\n"
          ],
          "name": "stdout"
        }
      ]
    },
    {
      "cell_type": "code",
      "metadata": {
        "id": "e_4pDYzcIFSp",
        "colab_type": "code",
        "outputId": "e185a1ec-5017-483f-da8f-27af9a04a615",
        "colab": {
          "base_uri": "https://localhost:8080/",
          "height": 34
        }
      },
      "source": [
        "from sklearn.metrics import mean_absolute_error\n",
        "print(\"mean absolute error:\",mean_absolute_error(expectations, predictions))"
      ],
      "execution_count": 47,
      "outputs": [
        {
          "output_type": "stream",
          "text": [
            "mean absolute error: 0.7656459117007797\n"
          ],
          "name": "stdout"
        }
      ]
    },
    {
      "cell_type": "code",
      "metadata": {
        "id": "MDFy7IhcIfw8",
        "colab_type": "code",
        "outputId": "5cf2a70e-fb44-4107-bda4-59c5a21c1f49",
        "colab": {
          "base_uri": "https://localhost:8080/",
          "height": 34
        }
      },
      "source": [
        "from sklearn.metrics import mean_squared_error\n",
        "print(\"mean squared error:\",mean_squared_error(expectations, predictions))"
      ],
      "execution_count": 48,
      "outputs": [
        {
          "output_type": "stream",
          "text": [
            "mean squared error: 1.0575548983690102\n"
          ],
          "name": "stdout"
        }
      ]
    },
    {
      "cell_type": "code",
      "metadata": {
        "id": "x3qAQmPtI6pg",
        "colab_type": "code",
        "outputId": "16ba543e-e9e6-429c-8ce0-1aea85a1d681",
        "colab": {
          "base_uri": "https://localhost:8080/",
          "height": 34
        }
      },
      "source": [
        " from sklearn.metrics import mean_squared_error\n",
        " print(\"root mean squared error:\",mean_squared_error(expectations, predictions, squared=False))\n"
      ],
      "execution_count": 49,
      "outputs": [
        {
          "output_type": "stream",
          "text": [
            "root mean squared error: 1.028374882214171\n"
          ],
          "name": "stdout"
        }
      ]
    },
    {
      "cell_type": "code",
      "metadata": {
        "id": "eaGj-Na6JN9o",
        "colab_type": "code",
        "outputId": "79749349-d844-46e3-8cde-6d01202db114",
        "colab": {
          "base_uri": "https://localhost:8080/",
          "height": 34
        }
      },
      "source": [
        "from sklearn.metrics import mean_squared_log_error\n",
        "print(\"mean squared log error:\",mean_squared_log_error(predictions, expectations))"
      ],
      "execution_count": 50,
      "outputs": [
        {
          "output_type": "stream",
          "text": [
            "mean squared log error: 0.020544670715669462\n"
          ],
          "name": "stdout"
        }
      ]
    },
    {
      "cell_type": "code",
      "metadata": {
        "id": "d3-uh6rjJhr1",
        "colab_type": "code",
        "outputId": "ab9172ec-9b94-4cfa-891a-22f328ee45e0",
        "colab": {
          "base_uri": "https://localhost:8080/",
          "height": 34
        }
      },
      "source": [
        "from sklearn.metrics import median_absolute_error\n",
        "print(\"median absolute error:\",median_absolute_error(expectations, predictions))"
      ],
      "execution_count": 51,
      "outputs": [
        {
          "output_type": "stream",
          "text": [
            "median absolute error: 0.5895436119139204\n"
          ],
          "name": "stdout"
        }
      ]
    },
    {
      "cell_type": "code",
      "metadata": {
        "id": "t4x8Nrh_J1jJ",
        "colab_type": "code",
        "outputId": "399a7294-4c5a-4b27-ba7b-2566ef8f5a15",
        "colab": {
          "base_uri": "https://localhost:8080/",
          "height": 51
        }
      },
      "source": [
        "from sklearn.metrics import r2_score\n",
        "print(\"r2 score:\",r2_score(expectations, predictions))\n",
        "print(\"r2 score variance weighted:\",r2_score(expectations,predictions,multioutput='variance_weighted'))"
      ],
      "execution_count": 52,
      "outputs": [
        {
          "output_type": "stream",
          "text": [
            "r2 score: 0.8835362649113624\n",
            "r2 score variance weighted: 0.8835362649113623\n"
          ],
          "name": "stdout"
        }
      ]
    },
    {
      "cell_type": "code",
      "metadata": {
        "id": "KujUZWy7Kkow",
        "colab_type": "code",
        "outputId": "1e7fe2aa-492f-4294-a197-ec70627f541e",
        "colab": {
          "base_uri": "https://localhost:8080/",
          "height": 34
        }
      },
      "source": [
        "from sklearn.metrics import mean_poisson_deviance\n",
        "print(\"mean poisson deviance:\",mean_poisson_deviance(expectations,predictions))"
      ],
      "execution_count": 53,
      "outputs": [
        {
          "output_type": "stream",
          "text": [
            "mean poisson deviance: 0.16193254939333232\n"
          ],
          "name": "stdout"
        }
      ]
    },
    {
      "cell_type": "code",
      "metadata": {
        "id": "mQdcIXTqKz55",
        "colab_type": "code",
        "outputId": "61311e7e-212d-49ec-a66f-02122337f004",
        "colab": {
          "base_uri": "https://localhost:8080/",
          "height": 34
        }
      },
      "source": [
        "from sklearn.metrics import mean_gamma_deviance\n",
        "print(\"mean gamma deviance:\",mean_gamma_deviance(expectations, predictions))"
      ],
      "execution_count": 54,
      "outputs": [
        {
          "output_type": "stream",
          "text": [
            "mean gamma deviance: 0.0355701682001094\n"
          ],
          "name": "stdout"
        }
      ]
    }
  ]
}